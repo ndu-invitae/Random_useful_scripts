{
 "cells": [
  {
   "cell_type": "code",
   "execution_count": 252,
   "id": "71da2284-d117-4a30-a91b-95c9babd6630",
   "metadata": {},
   "outputs": [],
   "source": [
    "import numpy as np\n",
    "import pandas as pd\n",
    "from scipy.optimize import least_squares\n",
    "import matplotlib.pyplot as plt\n",
    "import seaborn as sns"
   ]
  },
  {
   "cell_type": "code",
   "execution_count": 272,
   "id": "6c261f2d-71e6-495a-a81a-de63ee0079d5",
   "metadata": {},
   "outputs": [],
   "source": [
    "y1 = [-1.02933389796674E-09,\n",
    "1.76788500275201E-09,\n",
    "5.211531526964E-09,\n",
    "1.2307250501221E-08,\n",
    "1.4122425603974E-08,\n",
    "1.28389209457569E-08,\n",
    "1.15012284759524E-08,]"
   ]
  },
  {
   "cell_type": "code",
   "execution_count": 274,
   "id": "18d3dfda-d55c-473c-8075-829da47bdff1",
   "metadata": {},
   "outputs": [],
   "source": [
    "y2 = [-2.78896871908356E-09,\n",
    "3.65353824174948E-10,\n",
    "1.07365258789958E-09,\n",
    "5.68353254496137E-09,\n",
    "7.86108239965975E-09,\n",
    "7.2909807452816E-09,\n",
    "6.84363137369548E-09,]"
   ]
  },
  {
   "cell_type": "code",
   "execution_count": 275,
   "id": "f48f57f2-efdf-47f3-a849-36cade131645",
   "metadata": {},
   "outputs": [],
   "source": [
    "y1 = np.array(y1)*1e9\n",
    "y1 = np.around(y1 - y1[0],2)\n",
    "\n",
    "y2 = np.array(y2)*1e9*1.3\n",
    "y2 = np.around(y2 - y2[0],2)"
   ]
  },
  {
   "cell_type": "code",
   "execution_count": 276,
   "id": "18a5538d-9794-4476-8daa-d0b221570fcc",
   "metadata": {},
   "outputs": [],
   "source": [
    "Y1 = [list(np.around(y1 + np.random.rand(1,len(y1))*np.log(y1+1), 2)[0]) for i in range(3)]\n",
    "Y2 = [list(np.around(y2 + np.random.rand(1,len(y2))*np.log(y2+1), 2)[0]) for i in range(3)]"
   ]
  },
  {
   "cell_type": "code",
   "execution_count": 277,
   "id": "f8524837-5751-4c00-b8c4-46d97abdc5ba",
   "metadata": {},
   "outputs": [],
   "source": [
    "X = [0.0,\n",
    "20.0,\n",
    "50.0,\n",
    "200.0,\n",
    "500.0,\n",
    "1000.0,\n",
    "2000.0,]"
   ]
  },
  {
   "cell_type": "code",
   "execution_count": 278,
   "id": "d3aa098d-8fa4-4ae8-b48f-383d540a7fb7",
   "metadata": {},
   "outputs": [
    {
     "name": "stderr",
     "output_type": "stream",
     "text": [
      "/var/folders/np/c6spvh053sj7w043zdpq_27h0000gn/T/ipykernel_67333/4191469147.py:4: FutureWarning: The frame.append method is deprecated and will be removed from pandas in a future version. Use pandas.concat instead.\n",
      "  df = df.append(pd.DataFrame({\"x\":X, \"y\":yy, \"f\":f,\"r\":r}))\n",
      "/var/folders/np/c6spvh053sj7w043zdpq_27h0000gn/T/ipykernel_67333/4191469147.py:4: FutureWarning: The frame.append method is deprecated and will be removed from pandas in a future version. Use pandas.concat instead.\n",
      "  df = df.append(pd.DataFrame({\"x\":X, \"y\":yy, \"f\":f,\"r\":r}))\n",
      "/var/folders/np/c6spvh053sj7w043zdpq_27h0000gn/T/ipykernel_67333/4191469147.py:4: FutureWarning: The frame.append method is deprecated and will be removed from pandas in a future version. Use pandas.concat instead.\n",
      "  df = df.append(pd.DataFrame({\"x\":X, \"y\":yy, \"f\":f,\"r\":r}))\n",
      "/var/folders/np/c6spvh053sj7w043zdpq_27h0000gn/T/ipykernel_67333/4191469147.py:4: FutureWarning: The frame.append method is deprecated and will be removed from pandas in a future version. Use pandas.concat instead.\n",
      "  df = df.append(pd.DataFrame({\"x\":X, \"y\":yy, \"f\":f,\"r\":r}))\n"
     ]
    }
   ],
   "source": [
    "df = pd.DataFrame()\n",
    "for y,f in zip([Y1,Y2],[\"A\",\"B\"]):\n",
    "    for yy,r in zip(y,[\"R1\",\"R2\",\"R3\"]):\n",
    "        df = df.append(pd.DataFrame({\"x\":X, \"y\":yy, \"f\":f,\"r\":r}))\n",
    "    "
   ]
  },
  {
   "cell_type": "code",
   "execution_count": 279,
   "id": "19241fc6-33b7-427f-8721-ded28115c73d",
   "metadata": {},
   "outputs": [],
   "source": [
    "from pingouin import ancova, anova"
   ]
  },
  {
   "cell_type": "code",
   "execution_count": 287,
   "id": "6af1cfcc-42f4-48cf-90bb-3f89bbace7cf",
   "metadata": {},
   "outputs": [
    {
     "data": {
      "text/html": [
       "<div>\n",
       "<style scoped>\n",
       "    .dataframe tbody tr th:only-of-type {\n",
       "        vertical-align: middle;\n",
       "    }\n",
       "\n",
       "    .dataframe tbody tr th {\n",
       "        vertical-align: top;\n",
       "    }\n",
       "\n",
       "    .dataframe thead th {\n",
       "        text-align: right;\n",
       "    }\n",
       "</style>\n",
       "<table border=\"1\" class=\"dataframe\">\n",
       "  <thead>\n",
       "    <tr style=\"text-align: right;\">\n",
       "      <th></th>\n",
       "      <th>Pig</th>\n",
       "      <th>Evit</th>\n",
       "      <th>Cu</th>\n",
       "      <th>Litter</th>\n",
       "      <th>Start</th>\n",
       "      <th>Weight</th>\n",
       "      <th>Feed</th>\n",
       "      <th>Time</th>\n",
       "    </tr>\n",
       "  </thead>\n",
       "  <tbody>\n",
       "    <tr>\n",
       "      <th>0</th>\n",
       "      <td>4601</td>\n",
       "      <td>Evit000</td>\n",
       "      <td>Cu000</td>\n",
       "      <td>1</td>\n",
       "      <td>26.5</td>\n",
       "      <td>26.50000</td>\n",
       "      <td>NaN</td>\n",
       "      <td>1</td>\n",
       "    </tr>\n",
       "    <tr>\n",
       "      <th>1</th>\n",
       "      <td>4601</td>\n",
       "      <td>Evit000</td>\n",
       "      <td>Cu000</td>\n",
       "      <td>1</td>\n",
       "      <td>26.5</td>\n",
       "      <td>27.59999</td>\n",
       "      <td>5.200005</td>\n",
       "      <td>2</td>\n",
       "    </tr>\n",
       "    <tr>\n",
       "      <th>2</th>\n",
       "      <td>4601</td>\n",
       "      <td>Evit000</td>\n",
       "      <td>Cu000</td>\n",
       "      <td>1</td>\n",
       "      <td>26.5</td>\n",
       "      <td>36.50000</td>\n",
       "      <td>17.600000</td>\n",
       "      <td>3</td>\n",
       "    </tr>\n",
       "    <tr>\n",
       "      <th>3</th>\n",
       "      <td>4601</td>\n",
       "      <td>Evit000</td>\n",
       "      <td>Cu000</td>\n",
       "      <td>1</td>\n",
       "      <td>26.5</td>\n",
       "      <td>40.29999</td>\n",
       "      <td>28.500000</td>\n",
       "      <td>4</td>\n",
       "    </tr>\n",
       "    <tr>\n",
       "      <th>4</th>\n",
       "      <td>4601</td>\n",
       "      <td>Evit000</td>\n",
       "      <td>Cu000</td>\n",
       "      <td>1</td>\n",
       "      <td>26.5</td>\n",
       "      <td>49.09998</td>\n",
       "      <td>45.200001</td>\n",
       "      <td>5</td>\n",
       "    </tr>\n",
       "    <tr>\n",
       "      <th>...</th>\n",
       "      <td>...</td>\n",
       "      <td>...</td>\n",
       "      <td>...</td>\n",
       "      <td>...</td>\n",
       "      <td>...</td>\n",
       "      <td>...</td>\n",
       "      <td>...</td>\n",
       "      <td>...</td>\n",
       "    </tr>\n",
       "    <tr>\n",
       "      <th>856</th>\n",
       "      <td>8442</td>\n",
       "      <td>Evit000</td>\n",
       "      <td>Cu175</td>\n",
       "      <td>24</td>\n",
       "      <td>25.7</td>\n",
       "      <td>73.19995</td>\n",
       "      <td>83.800003</td>\n",
       "      <td>8</td>\n",
       "    </tr>\n",
       "    <tr>\n",
       "      <th>857</th>\n",
       "      <td>8442</td>\n",
       "      <td>Evit000</td>\n",
       "      <td>Cu175</td>\n",
       "      <td>24</td>\n",
       "      <td>25.7</td>\n",
       "      <td>81.69995</td>\n",
       "      <td>99.800003</td>\n",
       "      <td>9</td>\n",
       "    </tr>\n",
       "    <tr>\n",
       "      <th>858</th>\n",
       "      <td>8442</td>\n",
       "      <td>Evit000</td>\n",
       "      <td>Cu175</td>\n",
       "      <td>24</td>\n",
       "      <td>25.7</td>\n",
       "      <td>90.29999</td>\n",
       "      <td>115.200001</td>\n",
       "      <td>10</td>\n",
       "    </tr>\n",
       "    <tr>\n",
       "      <th>859</th>\n",
       "      <td>8442</td>\n",
       "      <td>Evit000</td>\n",
       "      <td>Cu175</td>\n",
       "      <td>24</td>\n",
       "      <td>25.7</td>\n",
       "      <td>96.00000</td>\n",
       "      <td>133.200001</td>\n",
       "      <td>11</td>\n",
       "    </tr>\n",
       "    <tr>\n",
       "      <th>860</th>\n",
       "      <td>8442</td>\n",
       "      <td>Evit000</td>\n",
       "      <td>Cu175</td>\n",
       "      <td>24</td>\n",
       "      <td>25.7</td>\n",
       "      <td>103.50000</td>\n",
       "      <td>151.400002</td>\n",
       "      <td>12</td>\n",
       "    </tr>\n",
       "  </tbody>\n",
       "</table>\n",
       "<p>861 rows × 8 columns</p>\n",
       "</div>"
      ],
      "text/plain": [
       "      Pig     Evit     Cu  Litter  Start     Weight        Feed  Time\n",
       "0    4601  Evit000  Cu000       1   26.5   26.50000         NaN     1\n",
       "1    4601  Evit000  Cu000       1   26.5   27.59999    5.200005     2\n",
       "2    4601  Evit000  Cu000       1   26.5   36.50000   17.600000     3\n",
       "3    4601  Evit000  Cu000       1   26.5   40.29999   28.500000     4\n",
       "4    4601  Evit000  Cu000       1   26.5   49.09998   45.200001     5\n",
       "..    ...      ...    ...     ...    ...        ...         ...   ...\n",
       "856  8442  Evit000  Cu175      24   25.7   73.19995   83.800003     8\n",
       "857  8442  Evit000  Cu175      24   25.7   81.69995   99.800003     9\n",
       "858  8442  Evit000  Cu175      24   25.7   90.29999  115.200001    10\n",
       "859  8442  Evit000  Cu175      24   25.7   96.00000  133.200001    11\n",
       "860  8442  Evit000  Cu175      24   25.7  103.50000  151.400002    12\n",
       "\n",
       "[861 rows x 8 columns]"
      ]
     },
     "execution_count": 287,
     "metadata": {},
     "output_type": "execute_result"
    }
   ],
   "source": [
    "data"
   ]
  },
  {
   "cell_type": "code",
   "execution_count": 302,
   "id": "11356e89-5cad-4e64-9e2b-516e09e03fdc",
   "metadata": {},
   "outputs": [
    {
     "name": "stderr",
     "output_type": "stream",
     "text": [
      "/Users/niudu/miniconda3/envs/pylab/lib/python3.10/site-packages/statsmodels/base/model.py:604: ConvergenceWarning: Maximum Likelihood optimization failed to converge. Check mle_retvals\n",
      "  warnings.warn(\"Maximum Likelihood optimization failed to \"\n",
      "/Users/niudu/miniconda3/envs/pylab/lib/python3.10/site-packages/statsmodels/regression/mixed_linear_model.py:2200: ConvergenceWarning: Retrying MixedLM optimization with lbfgs\n",
      "  warnings.warn(\n",
      "/Users/niudu/miniconda3/envs/pylab/lib/python3.10/site-packages/statsmodels/base/model.py:604: ConvergenceWarning: Maximum Likelihood optimization failed to converge. Check mle_retvals\n",
      "  warnings.warn(\"Maximum Likelihood optimization failed to \"\n",
      "/Users/niudu/miniconda3/envs/pylab/lib/python3.10/site-packages/statsmodels/regression/mixed_linear_model.py:2200: ConvergenceWarning: Retrying MixedLM optimization with cg\n",
      "  warnings.warn(\n",
      "/Users/niudu/miniconda3/envs/pylab/lib/python3.10/site-packages/statsmodels/base/model.py:604: ConvergenceWarning: Maximum Likelihood optimization failed to converge. Check mle_retvals\n",
      "  warnings.warn(\"Maximum Likelihood optimization failed to \"\n",
      "/Users/niudu/miniconda3/envs/pylab/lib/python3.10/site-packages/statsmodels/regression/mixed_linear_model.py:2206: ConvergenceWarning: MixedLM optimization failed, trying a different optimizer may help.\n",
      "  warnings.warn(msg, ConvergenceWarning)\n",
      "/Users/niudu/miniconda3/envs/pylab/lib/python3.10/site-packages/statsmodels/regression/mixed_linear_model.py:2218: ConvergenceWarning: Gradient optimization failed, |grad| = 0.014317\n",
      "  warnings.warn(msg, ConvergenceWarning)\n",
      "/Users/niudu/miniconda3/envs/pylab/lib/python3.10/site-packages/statsmodels/regression/mixed_linear_model.py:2237: ConvergenceWarning: The MLE may be on the boundary of the parameter space.\n",
      "  warnings.warn(msg, ConvergenceWarning)\n",
      "/Users/niudu/miniconda3/envs/pylab/lib/python3.10/site-packages/statsmodels/regression/mixed_linear_model.py:2261: ConvergenceWarning: The Hessian matrix at the estimated parameter values is not positive definite.\n",
      "  warnings.warn(msg, ConvergenceWarning)\n"
     ]
    },
    {
     "data": {
      "text/html": [
       "<table class=\"simpletable\">\n",
       "<tr>\n",
       "       <td>Model:</td>       <td>MixedLM</td> <td>Dependent Variable:</td>     <td>y</td>    \n",
       "</tr>\n",
       "<tr>\n",
       "  <td>No. Observations:</td>   <td>42</td>          <td>Method:</td>         <td>REML</td>   \n",
       "</tr>\n",
       "<tr>\n",
       "     <td>No. Groups:</td>       <td>2</td>          <td>Scale:</td>         <td>24.7949</td> \n",
       "</tr>\n",
       "<tr>\n",
       "  <td>Min. group size:</td>    <td>21</td>      <td>Log-Likelihood:</td>   <td>-127.2753</td>\n",
       "</tr>\n",
       "<tr>\n",
       "  <td>Max. group size:</td>    <td>21</td>        <td>Converged:</td>         <td>No</td>    \n",
       "</tr>\n",
       "<tr>\n",
       "  <td>Mean group size:</td>   <td>21.0</td>            <td></td>               <td></td>     \n",
       "</tr>\n",
       "</table>\n",
       "<table class=\"simpletable\">\n",
       "<tr>\n",
       "       <td></td>      <th>Coef.</th> <th>Std.Err.</th>   <th>z</th>   <th>P>|z|</th> <th>[0.025</th> <th>0.975]</th>\n",
       "</tr>\n",
       "<tr>\n",
       "  <th>Intercept</th>  <td>6.991</td>   <td>1.462</td>  <td>4.780</td> <td>0.000</td>  <td>4.125</td>  <td>9.857</td>\n",
       "</tr>\n",
       "<tr>\n",
       "  <th>C(r)[T.R2]</th> <td>0.251</td>   <td>1.882</td>  <td>0.134</td> <td>0.894</td> <td>-3.437</td>  <td>3.940</td>\n",
       "</tr>\n",
       "<tr>\n",
       "  <th>C(r)[T.R3]</th> <td>0.113</td>   <td>1.882</td>  <td>0.060</td> <td>0.952</td> <td>-3.576</td>  <td>3.802</td>\n",
       "</tr>\n",
       "<tr>\n",
       "  <th>x</th>          <td>0.005</td>   <td>0.001</td>  <td>4.562</td> <td>0.000</td>  <td>0.003</td>  <td>0.007</td>\n",
       "</tr>\n",
       "<tr>\n",
       "  <th>f Var</th>      <td>0.000</td>     <td></td>       <td></td>      <td></td>       <td></td>       <td></td>   \n",
       "</tr>\n",
       "</table>"
      ],
      "text/plain": [
       "<class 'statsmodels.iolib.summary2.Summary'>\n",
       "\"\"\"\n",
       "         Mixed Linear Model Regression Results\n",
       "=======================================================\n",
       "Model:            MixedLM Dependent Variable: y        \n",
       "No. Observations: 42      Method:             REML     \n",
       "No. Groups:       2       Scale:              24.7949  \n",
       "Min. group size:  21      Log-Likelihood:     -127.2753\n",
       "Max. group size:  21      Converged:          No       \n",
       "Mean group size:  21.0                                 \n",
       "-------------------------------------------------------\n",
       "               Coef. Std.Err.   z   P>|z| [0.025 0.975]\n",
       "-------------------------------------------------------\n",
       "Intercept      6.991    1.462 4.780 0.000  4.125  9.857\n",
       "C(r)[T.R2]     0.251    1.882 0.134 0.894 -3.437  3.940\n",
       "C(r)[T.R3]     0.113    1.882 0.060 0.952 -3.576  3.802\n",
       "x              0.005    0.001 4.562 0.000  0.003  0.007\n",
       "f Var          0.000                                   \n",
       "=======================================================\n",
       "\n",
       "\"\"\""
      ]
     },
     "execution_count": 302,
     "metadata": {},
     "output_type": "execute_result"
    }
   ],
   "source": [
    "import statsmodels.api as sm\n",
    "import statsmodels.formula.api as smf\n",
    "\n",
    "# Run LMER\n",
    "model = smf.mixedlm(\"y ~ x + C(r)\",\n",
    "                    df,\n",
    "                    groups= \"f\").fit()\n",
    "\n",
    "model.summary()\n"
   ]
  },
  {
   "cell_type": "code",
   "execution_count": 304,
   "id": "d4ab383b-d37e-4511-92e3-589011a32a67",
   "metadata": {},
   "outputs": [
    {
     "data": {
      "text/plain": [
       "<AxesSubplot:xlabel='f', ylabel='y'>"
      ]
     },
     "execution_count": 304,
     "metadata": {},
     "output_type": "execute_result"
    },
    {
     "data": {
      "image/png": "[encoded data removed]",
      "text/plain": [
       "<Figure size 720x432 with 1 Axes>"
      ]
     },
     "metadata": {
      "needs_background": "light"
     },
     "output_type": "display_data"
    }
   ],
   "source": [
    "f,ax = plt.subplots(figsize = (10,6))\n",
    "sns.swarmplot(x = \"f\", y = \"y\", hue = 'r', data = df, ax = ax)"
   ]
  },
  {
   "cell_type": "code",
   "execution_count": 281,
   "id": "2e2c50bf-4c99-4a93-9cab-0416a652afae",
   "metadata": {},
   "outputs": [
    {
     "data": {
      "text/html": [
       "<div>\n",
       "<style scoped>\n",
       "    .dataframe tbody tr th:only-of-type {\n",
       "        vertical-align: middle;\n",
       "    }\n",
       "\n",
       "    .dataframe tbody tr th {\n",
       "        vertical-align: top;\n",
       "    }\n",
       "\n",
       "    .dataframe thead th {\n",
       "        text-align: right;\n",
       "    }\n",
       "</style>\n",
       "<table border=\"1\" class=\"dataframe\">\n",
       "  <thead>\n",
       "    <tr style=\"text-align: right;\">\n",
       "      <th></th>\n",
       "      <th>Source</th>\n",
       "      <th>SS</th>\n",
       "      <th>DF</th>\n",
       "      <th>MS</th>\n",
       "      <th>F</th>\n",
       "      <th>p-unc</th>\n",
       "      <th>np2</th>\n",
       "    </tr>\n",
       "  </thead>\n",
       "  <tbody>\n",
       "    <tr>\n",
       "      <th>0</th>\n",
       "      <td>f</td>\n",
       "      <td>4.061038</td>\n",
       "      <td>1</td>\n",
       "      <td>4.061038</td>\n",
       "      <td>0.100580</td>\n",
       "      <td>0.752967</td>\n",
       "      <td>0.002786</td>\n",
       "    </tr>\n",
       "    <tr>\n",
       "      <th>1</th>\n",
       "      <td>r</td>\n",
       "      <td>0.444057</td>\n",
       "      <td>2</td>\n",
       "      <td>0.222029</td>\n",
       "      <td>0.005499</td>\n",
       "      <td>0.994517</td>\n",
       "      <td>0.000305</td>\n",
       "    </tr>\n",
       "    <tr>\n",
       "      <th>2</th>\n",
       "      <td>f * r</td>\n",
       "      <td>0.528362</td>\n",
       "      <td>2</td>\n",
       "      <td>0.264181</td>\n",
       "      <td>0.006543</td>\n",
       "      <td>0.993480</td>\n",
       "      <td>0.000363</td>\n",
       "    </tr>\n",
       "    <tr>\n",
       "      <th>3</th>\n",
       "      <td>Residual</td>\n",
       "      <td>1453.542600</td>\n",
       "      <td>36</td>\n",
       "      <td>40.376183</td>\n",
       "      <td>NaN</td>\n",
       "      <td>NaN</td>\n",
       "      <td>NaN</td>\n",
       "    </tr>\n",
       "  </tbody>\n",
       "</table>\n",
       "</div>"
      ],
      "text/plain": [
       "     Source           SS  DF         MS         F     p-unc       np2\n",
       "0         f     4.061038   1   4.061038  0.100580  0.752967  0.002786\n",
       "1         r     0.444057   2   0.222029  0.005499  0.994517  0.000305\n",
       "2     f * r     0.528362   2   0.264181  0.006543  0.993480  0.000363\n",
       "3  Residual  1453.542600  36  40.376183       NaN       NaN       NaN"
      ]
     },
     "execution_count": 281,
     "metadata": {},
     "output_type": "execute_result"
    }
   ],
   "source": [
    "anova(data = df, dv = 'y', between = ['f','r'])"
   ]
  },
  {
   "cell_type": "code",
   "execution_count": 282,
   "id": "b6bf31c6-6c87-44bf-a873-ba14ce14fa44",
   "metadata": {},
   "outputs": [
    {
     "data": {
      "text/html": [
       "<div>\n",
       "<style scoped>\n",
       "    .dataframe tbody tr th:only-of-type {\n",
       "        vertical-align: middle;\n",
       "    }\n",
       "\n",
       "    .dataframe tbody tr th {\n",
       "        vertical-align: top;\n",
       "    }\n",
       "\n",
       "    .dataframe thead th {\n",
       "        text-align: right;\n",
       "    }\n",
       "</style>\n",
       "<table border=\"1\" class=\"dataframe\">\n",
       "  <thead>\n",
       "    <tr style=\"text-align: right;\">\n",
       "      <th></th>\n",
       "      <th>Source</th>\n",
       "      <th>SS</th>\n",
       "      <th>DF</th>\n",
       "      <th>F</th>\n",
       "      <th>p-unc</th>\n",
       "      <th>np2</th>\n",
       "    </tr>\n",
       "  </thead>\n",
       "  <tbody>\n",
       "    <tr>\n",
       "      <th>0</th>\n",
       "      <td>f</td>\n",
       "      <td>4.061038</td>\n",
       "      <td>1</td>\n",
       "      <td>0.168743</td>\n",
       "      <td>0.68348</td>\n",
       "      <td>0.004308</td>\n",
       "    </tr>\n",
       "    <tr>\n",
       "      <th>1</th>\n",
       "      <td>x</td>\n",
       "      <td>515.925144</td>\n",
       "      <td>1</td>\n",
       "      <td>21.437564</td>\n",
       "      <td>0.00004</td>\n",
       "      <td>0.354706</td>\n",
       "    </tr>\n",
       "    <tr>\n",
       "      <th>2</th>\n",
       "      <td>Residual</td>\n",
       "      <td>938.589875</td>\n",
       "      <td>39</td>\n",
       "      <td>NaN</td>\n",
       "      <td>NaN</td>\n",
       "      <td>NaN</td>\n",
       "    </tr>\n",
       "  </tbody>\n",
       "</table>\n",
       "</div>"
      ],
      "text/plain": [
       "     Source          SS  DF          F    p-unc       np2\n",
       "0         f    4.061038   1   0.168743  0.68348  0.004308\n",
       "1         x  515.925144   1  21.437564  0.00004  0.354706\n",
       "2  Residual  938.589875  39        NaN      NaN       NaN"
      ]
     },
     "execution_count": 282,
     "metadata": {},
     "output_type": "execute_result"
    }
   ],
   "source": [
    "ancova(data=df, dv='y', covar='x', between='f', effsize=\"np2\")"
   ]
  },
  {
   "cell_type": "code",
   "execution_count": 283,
   "id": "72e350c4-6ff5-425e-982b-c4391d5d2004",
   "metadata": {},
   "outputs": [
    {
     "data": {
      "text/html": [
       "<div>\n",
       "<style scoped>\n",
       "    .dataframe tbody tr th:only-of-type {\n",
       "        vertical-align: middle;\n",
       "    }\n",
       "\n",
       "    .dataframe tbody tr th {\n",
       "        vertical-align: top;\n",
       "    }\n",
       "\n",
       "    .dataframe thead th {\n",
       "        text-align: right;\n",
       "    }\n",
       "</style>\n",
       "<table border=\"1\" class=\"dataframe\">\n",
       "  <thead>\n",
       "    <tr style=\"text-align: right;\">\n",
       "      <th></th>\n",
       "      <th>Source</th>\n",
       "      <th>SS</th>\n",
       "      <th>DF</th>\n",
       "      <th>F</th>\n",
       "      <th>p-unc</th>\n",
       "      <th>np2</th>\n",
       "    </tr>\n",
       "  </thead>\n",
       "  <tbody>\n",
       "    <tr>\n",
       "      <th>0</th>\n",
       "      <td>r</td>\n",
       "      <td>0.444057</td>\n",
       "      <td>2</td>\n",
       "      <td>0.008955</td>\n",
       "      <td>0.991087</td>\n",
       "      <td>0.000471</td>\n",
       "    </tr>\n",
       "    <tr>\n",
       "      <th>1</th>\n",
       "      <td>x</td>\n",
       "      <td>515.925144</td>\n",
       "      <td>1</td>\n",
       "      <td>20.807698</td>\n",
       "      <td>0.000052</td>\n",
       "      <td>0.353826</td>\n",
       "    </tr>\n",
       "    <tr>\n",
       "      <th>2</th>\n",
       "      <td>Residual</td>\n",
       "      <td>942.206856</td>\n",
       "      <td>38</td>\n",
       "      <td>NaN</td>\n",
       "      <td>NaN</td>\n",
       "      <td>NaN</td>\n",
       "    </tr>\n",
       "  </tbody>\n",
       "</table>\n",
       "</div>"
      ],
      "text/plain": [
       "     Source          SS  DF          F     p-unc       np2\n",
       "0         r    0.444057   2   0.008955  0.991087  0.000471\n",
       "1         x  515.925144   1  20.807698  0.000052  0.353826\n",
       "2  Residual  942.206856  38        NaN       NaN       NaN"
      ]
     },
     "execution_count": 283,
     "metadata": {},
     "output_type": "execute_result"
    }
   ],
   "source": [
    "ancova(data=df, dv='y', covar='x', between='r')"
   ]
  },
  {
   "cell_type": "code",
   "execution_count": 284,
   "id": "481f63c1-dd5d-44aa-a24e-8863f36f84c8",
   "metadata": {},
   "outputs": [],
   "source": [
    "def platt_equation_wo_inhibition(coef,x,y):\n",
    "\n",
    "    return coef[0]*(1-np.exp(-(coef[1]*x)/coef[0])) - y \n",
    "\n",
    "def platt_equation_w_inhibition(coef,x,y):\n",
    "\n",
    "    return coef[0]*(1-np.exp(-(coef[1]*x)/coef[0]))*np.exp((-1*coef[2]*x)/coef[0]) - y"
   ]
  },
  {
   "cell_type": "code",
   "execution_count": null,
   "id": "abe0e3b2-864f-4689-99e9-dc058da8b2d6",
   "metadata": {},
   "outputs": [],
   "source": [
    "def r_squared(yhat, y):\n",
    "    SSE = sum(np.array(yhat - y)**2)\n",
    "    SST = sum(np.array(yhat - np.mean(y))**2)\n",
    "    return 1-(SSE/SST)"
   ]
  },
  {
   "cell_type": "code",
   "execution_count": 324,
   "id": "493dd2c7-4a82-44b9-bb68-cfc10a2aeed3",
   "metadata": {},
   "outputs": [
    {
     "name": "stderr",
     "output_type": "stream",
     "text": [
      "/var/folders/np/c6spvh053sj7w043zdpq_27h0000gn/T/ipykernel_67333/1382705241.py:17: FutureWarning: The frame.append method is deprecated and will be removed from pandas in a future version. Use pandas.concat instead.\n",
      "  df_coef = df_coef.append(pd.DataFrame(list(res_lsq_2.x) + [r_squared(platt_equation_w_inhibition(res_lsq_2.x,X,0),Y)] + [\"A\",f\"R{i+1}\"]).T)\n",
      "/var/folders/np/c6spvh053sj7w043zdpq_27h0000gn/T/ipykernel_67333/1382705241.py:31: FutureWarning: The frame.append method is deprecated and will be removed from pandas in a future version. Use pandas.concat instead.\n",
      "  df_coef = df_coef.append(pd.DataFrame(list(res_lsq_2.x) + [r_squared(platt_equation_w_inhibition(res_lsq_2.x,X,0),Y)] + [\"B\",f\"R{i+1}\"]).T)\n",
      "/var/folders/np/c6spvh053sj7w043zdpq_27h0000gn/T/ipykernel_67333/1382705241.py:31: FutureWarning: The frame.append method is deprecated and will be removed from pandas in a future version. Use pandas.concat instead.\n",
      "  df_coef = df_coef.append(pd.DataFrame(list(res_lsq_2.x) + [r_squared(platt_equation_w_inhibition(res_lsq_2.x,X,0),Y)] + [\"B\",f\"R{i+1}\"]).T)\n",
      "/var/folders/np/c6spvh053sj7w043zdpq_27h0000gn/T/ipykernel_67333/1382705241.py:31: FutureWarning: The frame.append method is deprecated and will be removed from pandas in a future version. Use pandas.concat instead.\n",
      "  df_coef = df_coef.append(pd.DataFrame(list(res_lsq_2.x) + [r_squared(platt_equation_w_inhibition(res_lsq_2.x,X,0),Y)] + [\"B\",f\"R{i+1}\"]).T)\n"
     ]
    },
    {
     "data": {
      "image/png": "[encoded data removed]",
      "text/plain": [
       "<Figure size 720x432 with 1 Axes>"
      ]
     },
     "metadata": {
      "needs_background": "light"
     },
     "output_type": "display_data"
    }
   ],
   "source": [
    "def div0(a, b):\n",
    "    if b == 0:\n",
    "        return 1.\n",
    "    return a/b\n",
    "\n",
    "df_coef = pd.DataFrame()\n",
    "f,ax = plt.subplots(figsize = (10,6))\n",
    "for i,Y in enumerate(Y1):\n",
    "    X = np.array(X, dtype = float)\n",
    "    Y = np.array(Y, dtype = float)\n",
    "    assert len(X) == len(Y) >= 3, \"X and Y length must be equal with at least 3 data points\"\n",
    "\n",
    "    init_ymax = Y.max()\n",
    "    init_slope = div0(Y[1]-Y[0],X[1]-X[0])\n",
    "    # res_lsq_1 = least_squares(platt_equation_wo_inhibition, [init_ymax, init_slope, 0], loss='soft_l1', bounds=(0,np.inf),  args=(X, Y)) \n",
    "    res_lsq_2 = least_squares(platt_equation_w_inhibition, [init_ymax, init_slope, 0], loss='soft_l1', bounds=(0,np.inf),  args=(X, Y)) \n",
    "    df_coef = df_coef.append(pd.DataFrame(list(res_lsq_2.x) + [r_squared(platt_equation_w_inhibition(res_lsq_2.x,X,0),Y)] + [\"A\",f\"R{i+1}\"]).T)\n",
    "    # ax.plot(np.arange(0,2000,10),platt_equation_wo_inhibition(res_lsq_1.x,np.arange(0,2000,10),0))\n",
    "    ax.plot(np.arange(0,2000,10),platt_equation_w_inhibition(res_lsq_2.x,np.arange(0,2000,10),0), '--')\n",
    "    ax.plot(X,Y,'o')\n",
    "    \n",
    "for i,Y in enumerate(Y2):\n",
    "    X = np.array(X, dtype = float)\n",
    "    Y = np.array(Y, dtype = float)\n",
    "    assert len(X) == len(Y) >= 3, \"X and Y length must be equal with at least 3 data points\"\n",
    "\n",
    "    init_ymax = Y.max()\n",
    "    init_slope = div0(Y[1]-Y[0],X[1]-X[0])\n",
    "    # res_lsq_1 = least_squares(platt_equation_wo_inhibition, [init_ymax, init_slope, 0], loss='soft_l1', bounds=(0,np.inf),  args=(X, Y)) \n",
    "    res_lsq_2 = least_squares(platt_equation_w_inhibition, [init_ymax, init_slope, 0], loss='soft_l1', bounds=(0,np.inf),  args=(X, Y)) \n",
    "    df_coef = df_coef.append(pd.DataFrame(list(res_lsq_2.x) + [r_squared(platt_equation_w_inhibition(res_lsq_2.x,X,0),Y)] + [\"B\",f\"R{i+1}\"]).T)\n",
    "    # ax.plot(np.arange(0,2000,10),platt_equation_wo_inhibition(res_lsq_1.x,np.arange(0,2000,10),0))\n",
    "    ax.plot(np.arange(0,2000,10),platt_equation_w_inhibition(res_lsq_2.x,np.arange(0,2000,10),0), '-')\n",
    "    ax.plot(X,Y,'o')\n",
    "\n",
    "df_coef.columns = [\"max\",'alpha','beta','gof',\"factor\",\"repeat\"]"
   ]
  },
  {
   "cell_type": "code",
   "execution_count": 336,
   "id": "244a9375-1729-4f8c-a185-ac5236adfb94",
   "metadata": {},
   "outputs": [],
   "source": [
    "df_coef = df_coef.convert_dtypes()"
   ]
  },
  {
   "cell_type": "code",
   "execution_count": 337,
   "id": "d067b6cf-052e-4225-9beb-a70f2a70ed67",
   "metadata": {},
   "outputs": [],
   "source": [
    "df_coef['sat'] = df_coef['max']/df_coef['alpha']"
   ]
  },
  {
   "cell_type": "code",
   "execution_count": 333,
   "id": "57f7ba1f-1129-4d8a-9b17-01e435d92043",
   "metadata": {},
   "outputs": [
    {
     "data": {
      "text/html": [
       "<div>\n",
       "<style scoped>\n",
       "    .dataframe tbody tr th:only-of-type {\n",
       "        vertical-align: middle;\n",
       "    }\n",
       "\n",
       "    .dataframe tbody tr th {\n",
       "        vertical-align: top;\n",
       "    }\n",
       "\n",
       "    .dataframe thead th {\n",
       "        text-align: right;\n",
       "    }\n",
       "</style>\n",
       "<table border=\"1\" class=\"dataframe\">\n",
       "  <thead>\n",
       "    <tr style=\"text-align: right;\">\n",
       "      <th></th>\n",
       "      <th>Source</th>\n",
       "      <th>ddof1</th>\n",
       "      <th>ddof2</th>\n",
       "      <th>F</th>\n",
       "      <th>p-unc</th>\n",
       "      <th>np2</th>\n",
       "    </tr>\n",
       "  </thead>\n",
       "  <tbody>\n",
       "    <tr>\n",
       "      <th>0</th>\n",
       "      <td>factor</td>\n",
       "      <td>1</td>\n",
       "      <td>4</td>\n",
       "      <td>12.332516</td>\n",
       "      <td>0.024633</td>\n",
       "      <td>0.75509</td>\n",
       "    </tr>\n",
       "  </tbody>\n",
       "</table>\n",
       "</div>"
      ],
      "text/plain": [
       "   Source  ddof1  ddof2          F     p-unc      np2\n",
       "0  factor      1      4  12.332516  0.024633  0.75509"
      ]
     },
     "execution_count": 333,
     "metadata": {},
     "output_type": "execute_result"
    }
   ],
   "source": [
    "anova(data = df_coef, dv = 'max', between = ['factor'])"
   ]
  },
  {
   "cell_type": "code",
   "execution_count": 334,
   "id": "190a60a5-c7e0-45e4-9d7e-f095ba735f00",
   "metadata": {},
   "outputs": [
    {
     "data": {
      "text/html": [
       "<div>\n",
       "<style scoped>\n",
       "    .dataframe tbody tr th:only-of-type {\n",
       "        vertical-align: middle;\n",
       "    }\n",
       "\n",
       "    .dataframe tbody tr th {\n",
       "        vertical-align: top;\n",
       "    }\n",
       "\n",
       "    .dataframe thead th {\n",
       "        text-align: right;\n",
       "    }\n",
       "</style>\n",
       "<table border=\"1\" class=\"dataframe\">\n",
       "  <thead>\n",
       "    <tr style=\"text-align: right;\">\n",
       "      <th></th>\n",
       "      <th>Source</th>\n",
       "      <th>ddof1</th>\n",
       "      <th>ddof2</th>\n",
       "      <th>F</th>\n",
       "      <th>p-unc</th>\n",
       "      <th>np2</th>\n",
       "    </tr>\n",
       "  </thead>\n",
       "  <tbody>\n",
       "    <tr>\n",
       "      <th>0</th>\n",
       "      <td>factor</td>\n",
       "      <td>1</td>\n",
       "      <td>4</td>\n",
       "      <td>5.182279</td>\n",
       "      <td>0.085118</td>\n",
       "      <td>0.564378</td>\n",
       "    </tr>\n",
       "  </tbody>\n",
       "</table>\n",
       "</div>"
      ],
      "text/plain": [
       "   Source  ddof1  ddof2         F     p-unc       np2\n",
       "0  factor      1      4  5.182279  0.085118  0.564378"
      ]
     },
     "execution_count": 334,
     "metadata": {},
     "output_type": "execute_result"
    }
   ],
   "source": [
    "anova(data = df_coef.convert_dtypes(), dv = 'alpha', between = ['factor'])"
   ]
  },
  {
   "cell_type": "code",
   "execution_count": 335,
   "id": "883cceff-33b9-42c8-8820-76a6ee84557e",
   "metadata": {},
   "outputs": [
    {
     "data": {
      "text/html": [
       "<div>\n",
       "<style scoped>\n",
       "    .dataframe tbody tr th:only-of-type {\n",
       "        vertical-align: middle;\n",
       "    }\n",
       "\n",
       "    .dataframe tbody tr th {\n",
       "        vertical-align: top;\n",
       "    }\n",
       "\n",
       "    .dataframe thead th {\n",
       "        text-align: right;\n",
       "    }\n",
       "</style>\n",
       "<table border=\"1\" class=\"dataframe\">\n",
       "  <thead>\n",
       "    <tr style=\"text-align: right;\">\n",
       "      <th></th>\n",
       "      <th>Source</th>\n",
       "      <th>ddof1</th>\n",
       "      <th>ddof2</th>\n",
       "      <th>F</th>\n",
       "      <th>p-unc</th>\n",
       "      <th>np2</th>\n",
       "    </tr>\n",
       "  </thead>\n",
       "  <tbody>\n",
       "    <tr>\n",
       "      <th>0</th>\n",
       "      <td>factor</td>\n",
       "      <td>1</td>\n",
       "      <td>4</td>\n",
       "      <td>5.788658</td>\n",
       "      <td>0.073877</td>\n",
       "      <td>0.591364</td>\n",
       "    </tr>\n",
       "  </tbody>\n",
       "</table>\n",
       "</div>"
      ],
      "text/plain": [
       "   Source  ddof1  ddof2         F     p-unc       np2\n",
       "0  factor      1      4  5.788658  0.073877  0.591364"
      ]
     },
     "execution_count": 335,
     "metadata": {},
     "output_type": "execute_result"
    }
   ],
   "source": [
    "anova(data = df_coef.convert_dtypes(), dv = 'beta', between = ['factor'])"
   ]
  },
  {
   "cell_type": "code",
   "execution_count": 338,
   "id": "90bf5310-e304-4f66-b0c5-a45a79892b22",
   "metadata": {},
   "outputs": [
    {
     "data": {
      "text/html": [
       "<div>\n",
       "<style scoped>\n",
       "    .dataframe tbody tr th:only-of-type {\n",
       "        vertical-align: middle;\n",
       "    }\n",
       "\n",
       "    .dataframe tbody tr th {\n",
       "        vertical-align: top;\n",
       "    }\n",
       "\n",
       "    .dataframe thead th {\n",
       "        text-align: right;\n",
       "    }\n",
       "</style>\n",
       "<table border=\"1\" class=\"dataframe\">\n",
       "  <thead>\n",
       "    <tr style=\"text-align: right;\">\n",
       "      <th></th>\n",
       "      <th>Source</th>\n",
       "      <th>ddof1</th>\n",
       "      <th>ddof2</th>\n",
       "      <th>F</th>\n",
       "      <th>p-unc</th>\n",
       "      <th>np2</th>\n",
       "    </tr>\n",
       "  </thead>\n",
       "  <tbody>\n",
       "    <tr>\n",
       "      <th>0</th>\n",
       "      <td>factor</td>\n",
       "      <td>1</td>\n",
       "      <td>4</td>\n",
       "      <td>0.246559</td>\n",
       "      <td>0.645558</td>\n",
       "      <td>0.058061</td>\n",
       "    </tr>\n",
       "  </tbody>\n",
       "</table>\n",
       "</div>"
      ],
      "text/plain": [
       "   Source  ddof1  ddof2         F     p-unc       np2\n",
       "0  factor      1      4  0.246559  0.645558  0.058061"
      ]
     },
     "execution_count": 338,
     "metadata": {},
     "output_type": "execute_result"
    }
   ],
   "source": [
    "anova(data = df_coef, dv = 'sat', between = ['factor'])"
   ]
  },
  {
   "cell_type": "code",
   "execution_count": null,
   "id": "c5c4a68d-593c-48ab-b937-00701a1acf24",
   "metadata": {},
   "outputs": [],
   "source": []
  },
  {
   "cell_type": "code",
   "execution_count": null,
   "id": "1ce31428-cad9-417f-9bd3-eb0460e50364",
   "metadata": {},
   "outputs": [],
   "source": []
  },
  {
   "cell_type": "code",
   "execution_count": 246,
   "id": "ac0f5d57-d32f-49e0-b656-fe1cd7e01551",
   "metadata": {},
   "outputs": [
    {
     "data": {
      "text/plain": [
       " active_mask: array([ 0,  0, -1])\n",
       "        cost: 1.6885463382150643\n",
       "         fun: array([ 0.        , -1.63273688,  0.12362078,  0.88183705, -0.18125344,\n",
       "        0.3965575 , -0.89341372])\n",
       "        grad: array([-1.29244223e-05,  1.00393915e-03,  9.31676382e+02])\n",
       "         jac: array([[ 0.00000000e+00,  0.00000000e+00,  0.00000000e+00],\n",
       "       [ 1.05352005e-02,  5.83729239e+00, -1.71190487e+00],\n",
       "       [ 1.34691010e-01,  2.59900209e+01, -2.34444560e+01],\n",
       "       [ 4.72300261e-01,  9.92554686e+00, -1.19985984e+02],\n",
       "       [ 9.64347905e-01,  7.87422706e-01, -4.87236411e+02],\n",
       "       [ 8.96214006e-01,  2.33319137e-03, -8.96243411e+02],\n",
       "       [ 6.43981906e-01,  0.00000000e+00, -1.28796208e+03]])\n",
       "     message: '`ftol` termination condition is satisfied.'\n",
       "        nfev: 9\n",
       "        njev: 9\n",
       "  optimality: 0.0001427334655130976\n",
       "      status: 2\n",
       "     success: True\n",
       "           x: array([1.10565863e+01, 1.42173423e-01, 1.55340122e-20])"
      ]
     },
     "execution_count": 246,
     "metadata": {},
     "output_type": "execute_result"
    }
   ],
   "source": [
    "res_lsq_2"
   ]
  }
 ],
 "metadata": {
  "kernelspec": {
   "display_name": "Python 3 (ipykernel)",
   "language": "python",
   "name": "python3"
  },
  "language_info": {
   "codemirror_mode": {
    "name": "ipython",
    "version": 3
   },
   "file_extension": ".py",
   "mimetype": "text/x-python",
   "name": "python",
   "nbconvert_exporter": "python",
   "pygments_lexer": "ipython3",
   "version": "3.10.4"
  }
 },
 "nbformat": 4,
 "nbformat_minor": 5
}
